{
 "cells": [
  {
   "cell_type": "markdown",
   "id": "35641d79-0dda-43f0-819b-0f8afe74dfab",
   "metadata": {},
   "source": [
    "# GUÍA 1\n",
    "\n",
    "**Nombre:** Marjoris Parejo Castillo  \n",
    "**Fecha:** 17/08/2024  \n",
    "**Programa:** Especialización en Machine Learning"
   ]
  },
  {
   "cell_type": "markdown",
   "id": "8cf934cb-759b-494f-a634-b25e1cd4b672",
   "metadata": {},
   "source": [
    "## Actividad 1. Funciones y tipos de variables"
   ]
  },
  {
   "cell_type": "code",
   "execution_count": 245,
   "id": "955383e6-a91c-49d2-8b08-71379f7c9f82",
   "metadata": {},
   "outputs": [],
   "source": [
    "#Importo las librerías que voy a utilizar para explorar la base de datos\n",
    "from tabulate import tabulate\n",
    "import pandas as pd"
   ]
  },
  {
   "cell_type": "code",
   "execution_count": 247,
   "id": "1fdf48d6-e0d9-456c-9025-894ce159624e",
   "metadata": {},
   "outputs": [
    {
     "name": "stdout",
     "output_type": "stream",
     "text": [
      "<class 'pandas.core.frame.DataFrame'>\n",
      "RangeIndex: 48842 entries, 0 to 48841\n",
      "Data columns (total 16 columns):\n",
      " #   Column          Non-Null Count  Dtype \n",
      "---  ------          --------------  ----- \n",
      " 0   Unnamed: 0      48842 non-null  int64 \n",
      " 1   age             48842 non-null  int64 \n",
      " 2   workclass       47879 non-null  object\n",
      " 3   fnlwgt          48842 non-null  int64 \n",
      " 4   education       48842 non-null  object\n",
      " 5   education-num   48842 non-null  int64 \n",
      " 6   marital-status  48842 non-null  object\n",
      " 7   occupation      47876 non-null  object\n",
      " 8   relationship    48842 non-null  object\n",
      " 9   race            48842 non-null  object\n",
      " 10  sex             48842 non-null  object\n",
      " 11  capital-gain    48842 non-null  int64 \n",
      " 12  capital-loss    48842 non-null  int64 \n",
      " 13  hours-per-week  48842 non-null  int64 \n",
      " 14  native-country  48568 non-null  object\n",
      " 15  income          48842 non-null  object\n",
      "dtypes: int64(7), object(9)\n",
      "memory usage: 6.0+ MB\n"
     ]
    }
   ],
   "source": [
    "#Realizo la carga del archivo csv que se va a explorar 'Census Income'\n",
    "df=pd.read_csv('census_income-1.csv')\n",
    "df.info()"
   ]
  },
  {
   "cell_type": "code",
   "execution_count": 249,
   "id": "5c958117-1fc9-4f59-b8a7-b5cf4a536d1f",
   "metadata": {},
   "outputs": [
    {
     "data": {
      "text/plain": [
       "Unnamed: 0         int64\n",
       "age                int64\n",
       "workclass         object\n",
       "fnlwgt             int64\n",
       "education         object\n",
       "education-num      int64\n",
       "marital-status    object\n",
       "occupation        object\n",
       "relationship      object\n",
       "race              object\n",
       "sex               object\n",
       "capital-gain       int64\n",
       "capital-loss       int64\n",
       "hours-per-week     int64\n",
       "native-country    object\n",
       "income            object\n",
       "dtype: object"
      ]
     },
     "execution_count": 249,
     "metadata": {},
     "output_type": "execute_result"
    }
   ],
   "source": [
    "#Visualizo el nombre de cada columna del DataFrame y el tipo de datos de cada una de ellas\n",
    "df.dtypes"
   ]
  },
  {
   "cell_type": "code",
   "execution_count": 251,
   "id": "84de3d95-b686-49ac-b5bb-f37463c28e24",
   "metadata": {},
   "outputs": [],
   "source": [
    "#Quito la columna Unnamed: 0 del DataFrame para tener una mejor visualización ya que esta columna actua como indicador del número de fila\n",
    "del df['Unnamed: 0']"
   ]
  },
  {
   "cell_type": "markdown",
   "id": "c4d62979-21ca-4637-97ee-b161b6527a1e",
   "metadata": {},
   "source": [
    "**Descripción de las variables**  \n",
    "**age:** Edad de la persona  \n",
    "**workclass:** Tipo de empleo de la persona  \n",
    "**fnlwgt:** Peso final, representando la cantidad de personas que el individuo representa en la población.  \n",
    "**education:** Nivel educativo de la persona  \n",
    "**education-num:** Número asociado al nivel educativo de la persona  \n",
    "**marital-status:** Estado civil de la persona  \n",
    "**occupation:** Ocupación de la persona  \n",
    "**relationship:** Relación de la perosna individuo con el jefe de la familia.  \n",
    "**race:** Raza de la persona  \n",
    "**sex:** Género de la persona  \n",
    "**capital-gain:** Ganancia de capital obtenida durante el año\n",
    "**capital-loss:** Pérdida de capital sufrida durante el año\n",
    "**hours-per-week:** Número de horas trabajadas por semana.  \n",
    "**native-country:** País de origen de la persona  \n",
    "**income:** Ingreso anual de la persona, indicando si gana más de 50,000 dólares (>50K) o 50,000 dólares o menos  "
   ]
  },
  {
   "cell_type": "code",
   "execution_count": 254,
   "id": "7bdb6e03-9a4d-4aa1-9076-344d75805db0",
   "metadata": {},
   "outputs": [
    {
     "data": {
      "text/html": [
       "<div>\n",
       "<style scoped>\n",
       "    .dataframe tbody tr th:only-of-type {\n",
       "        vertical-align: middle;\n",
       "    }\n",
       "\n",
       "    .dataframe tbody tr th {\n",
       "        vertical-align: top;\n",
       "    }\n",
       "\n",
       "    .dataframe thead th {\n",
       "        text-align: right;\n",
       "    }\n",
       "</style>\n",
       "<table border=\"1\" class=\"dataframe\">\n",
       "  <thead>\n",
       "    <tr style=\"text-align: right;\">\n",
       "      <th></th>\n",
       "      <th>age</th>\n",
       "      <th>workclass</th>\n",
       "      <th>fnlwgt</th>\n",
       "      <th>education</th>\n",
       "      <th>education-num</th>\n",
       "      <th>marital-status</th>\n",
       "      <th>occupation</th>\n",
       "      <th>relationship</th>\n",
       "      <th>race</th>\n",
       "      <th>sex</th>\n",
       "      <th>capital-gain</th>\n",
       "      <th>capital-loss</th>\n",
       "      <th>hours-per-week</th>\n",
       "      <th>native-country</th>\n",
       "      <th>income</th>\n",
       "    </tr>\n",
       "  </thead>\n",
       "  <tbody>\n",
       "    <tr>\n",
       "      <th>0</th>\n",
       "      <td>39</td>\n",
       "      <td>State-gov</td>\n",
       "      <td>77516</td>\n",
       "      <td>Bachelors</td>\n",
       "      <td>13</td>\n",
       "      <td>Never-married</td>\n",
       "      <td>Adm-clerical</td>\n",
       "      <td>Not-in-family</td>\n",
       "      <td>White</td>\n",
       "      <td>Male</td>\n",
       "      <td>2174</td>\n",
       "      <td>0</td>\n",
       "      <td>40</td>\n",
       "      <td>United-States</td>\n",
       "      <td>&lt;=50K</td>\n",
       "    </tr>\n",
       "    <tr>\n",
       "      <th>1</th>\n",
       "      <td>50</td>\n",
       "      <td>Self-emp-not-inc</td>\n",
       "      <td>83311</td>\n",
       "      <td>Bachelors</td>\n",
       "      <td>13</td>\n",
       "      <td>Married-civ-spouse</td>\n",
       "      <td>Exec-managerial</td>\n",
       "      <td>Husband</td>\n",
       "      <td>White</td>\n",
       "      <td>Male</td>\n",
       "      <td>0</td>\n",
       "      <td>0</td>\n",
       "      <td>13</td>\n",
       "      <td>United-States</td>\n",
       "      <td>&lt;=50K</td>\n",
       "    </tr>\n",
       "    <tr>\n",
       "      <th>2</th>\n",
       "      <td>38</td>\n",
       "      <td>Private</td>\n",
       "      <td>215646</td>\n",
       "      <td>HS-grad</td>\n",
       "      <td>9</td>\n",
       "      <td>Divorced</td>\n",
       "      <td>Handlers-cleaners</td>\n",
       "      <td>Not-in-family</td>\n",
       "      <td>White</td>\n",
       "      <td>Male</td>\n",
       "      <td>0</td>\n",
       "      <td>0</td>\n",
       "      <td>40</td>\n",
       "      <td>United-States</td>\n",
       "      <td>&lt;=50K</td>\n",
       "    </tr>\n",
       "    <tr>\n",
       "      <th>3</th>\n",
       "      <td>53</td>\n",
       "      <td>Private</td>\n",
       "      <td>234721</td>\n",
       "      <td>11th</td>\n",
       "      <td>7</td>\n",
       "      <td>Married-civ-spouse</td>\n",
       "      <td>Handlers-cleaners</td>\n",
       "      <td>Husband</td>\n",
       "      <td>Black</td>\n",
       "      <td>Male</td>\n",
       "      <td>0</td>\n",
       "      <td>0</td>\n",
       "      <td>40</td>\n",
       "      <td>United-States</td>\n",
       "      <td>&lt;=50K</td>\n",
       "    </tr>\n",
       "    <tr>\n",
       "      <th>4</th>\n",
       "      <td>28</td>\n",
       "      <td>Private</td>\n",
       "      <td>338409</td>\n",
       "      <td>Bachelors</td>\n",
       "      <td>13</td>\n",
       "      <td>Married-civ-spouse</td>\n",
       "      <td>Prof-specialty</td>\n",
       "      <td>Wife</td>\n",
       "      <td>Black</td>\n",
       "      <td>Female</td>\n",
       "      <td>0</td>\n",
       "      <td>0</td>\n",
       "      <td>40</td>\n",
       "      <td>Cuba</td>\n",
       "      <td>&lt;=50K</td>\n",
       "    </tr>\n",
       "  </tbody>\n",
       "</table>\n",
       "</div>"
      ],
      "text/plain": [
       "   age         workclass  fnlwgt  education  education-num  \\\n",
       "0   39         State-gov   77516  Bachelors             13   \n",
       "1   50  Self-emp-not-inc   83311  Bachelors             13   \n",
       "2   38           Private  215646    HS-grad              9   \n",
       "3   53           Private  234721       11th              7   \n",
       "4   28           Private  338409  Bachelors             13   \n",
       "\n",
       "       marital-status         occupation   relationship   race     sex  \\\n",
       "0       Never-married       Adm-clerical  Not-in-family  White    Male   \n",
       "1  Married-civ-spouse    Exec-managerial        Husband  White    Male   \n",
       "2            Divorced  Handlers-cleaners  Not-in-family  White    Male   \n",
       "3  Married-civ-spouse  Handlers-cleaners        Husband  Black    Male   \n",
       "4  Married-civ-spouse     Prof-specialty           Wife  Black  Female   \n",
       "\n",
       "   capital-gain  capital-loss  hours-per-week native-country income  \n",
       "0          2174             0              40  United-States  <=50K  \n",
       "1             0             0              13  United-States  <=50K  \n",
       "2             0             0              40  United-States  <=50K  \n",
       "3             0             0              40  United-States  <=50K  \n",
       "4             0             0              40           Cuba  <=50K  "
      ]
     },
     "execution_count": 254,
     "metadata": {},
     "output_type": "execute_result"
    }
   ],
   "source": [
    "#Observo las primeras filas del DataFrame para verificar la carga inicial de datos y entender la estructura o formato de estos\n",
    "df.head()"
   ]
  },
  {
   "cell_type": "code",
   "execution_count": 256,
   "id": "ec872841-002b-4116-8a43-3c4572d31d4c",
   "metadata": {},
   "outputs": [
    {
     "data": {
      "text/html": [
       "<div>\n",
       "<style scoped>\n",
       "    .dataframe tbody tr th:only-of-type {\n",
       "        vertical-align: middle;\n",
       "    }\n",
       "\n",
       "    .dataframe tbody tr th {\n",
       "        vertical-align: top;\n",
       "    }\n",
       "\n",
       "    .dataframe thead th {\n",
       "        text-align: right;\n",
       "    }\n",
       "</style>\n",
       "<table border=\"1\" class=\"dataframe\">\n",
       "  <thead>\n",
       "    <tr style=\"text-align: right;\">\n",
       "      <th></th>\n",
       "      <th>age</th>\n",
       "      <th>workclass</th>\n",
       "      <th>fnlwgt</th>\n",
       "      <th>education</th>\n",
       "      <th>education-num</th>\n",
       "      <th>marital-status</th>\n",
       "      <th>occupation</th>\n",
       "      <th>relationship</th>\n",
       "      <th>race</th>\n",
       "      <th>sex</th>\n",
       "      <th>capital-gain</th>\n",
       "      <th>capital-loss</th>\n",
       "      <th>hours-per-week</th>\n",
       "      <th>native-country</th>\n",
       "      <th>income</th>\n",
       "    </tr>\n",
       "  </thead>\n",
       "  <tbody>\n",
       "    <tr>\n",
       "      <th>48837</th>\n",
       "      <td>39</td>\n",
       "      <td>Private</td>\n",
       "      <td>215419</td>\n",
       "      <td>Bachelors</td>\n",
       "      <td>13</td>\n",
       "      <td>Divorced</td>\n",
       "      <td>Prof-specialty</td>\n",
       "      <td>Not-in-family</td>\n",
       "      <td>White</td>\n",
       "      <td>Female</td>\n",
       "      <td>0</td>\n",
       "      <td>0</td>\n",
       "      <td>36</td>\n",
       "      <td>United-States</td>\n",
       "      <td>&lt;=50K.</td>\n",
       "    </tr>\n",
       "    <tr>\n",
       "      <th>48838</th>\n",
       "      <td>64</td>\n",
       "      <td>NaN</td>\n",
       "      <td>321403</td>\n",
       "      <td>HS-grad</td>\n",
       "      <td>9</td>\n",
       "      <td>Widowed</td>\n",
       "      <td>NaN</td>\n",
       "      <td>Other-relative</td>\n",
       "      <td>Black</td>\n",
       "      <td>Male</td>\n",
       "      <td>0</td>\n",
       "      <td>0</td>\n",
       "      <td>40</td>\n",
       "      <td>United-States</td>\n",
       "      <td>&lt;=50K.</td>\n",
       "    </tr>\n",
       "    <tr>\n",
       "      <th>48839</th>\n",
       "      <td>38</td>\n",
       "      <td>Private</td>\n",
       "      <td>374983</td>\n",
       "      <td>Bachelors</td>\n",
       "      <td>13</td>\n",
       "      <td>Married-civ-spouse</td>\n",
       "      <td>Prof-specialty</td>\n",
       "      <td>Husband</td>\n",
       "      <td>White</td>\n",
       "      <td>Male</td>\n",
       "      <td>0</td>\n",
       "      <td>0</td>\n",
       "      <td>50</td>\n",
       "      <td>United-States</td>\n",
       "      <td>&lt;=50K.</td>\n",
       "    </tr>\n",
       "    <tr>\n",
       "      <th>48840</th>\n",
       "      <td>44</td>\n",
       "      <td>Private</td>\n",
       "      <td>83891</td>\n",
       "      <td>Bachelors</td>\n",
       "      <td>13</td>\n",
       "      <td>Divorced</td>\n",
       "      <td>Adm-clerical</td>\n",
       "      <td>Own-child</td>\n",
       "      <td>Asian-Pac-Islander</td>\n",
       "      <td>Male</td>\n",
       "      <td>5455</td>\n",
       "      <td>0</td>\n",
       "      <td>40</td>\n",
       "      <td>United-States</td>\n",
       "      <td>&lt;=50K.</td>\n",
       "    </tr>\n",
       "    <tr>\n",
       "      <th>48841</th>\n",
       "      <td>35</td>\n",
       "      <td>Self-emp-inc</td>\n",
       "      <td>182148</td>\n",
       "      <td>Bachelors</td>\n",
       "      <td>13</td>\n",
       "      <td>Married-civ-spouse</td>\n",
       "      <td>Exec-managerial</td>\n",
       "      <td>Husband</td>\n",
       "      <td>White</td>\n",
       "      <td>Male</td>\n",
       "      <td>0</td>\n",
       "      <td>0</td>\n",
       "      <td>60</td>\n",
       "      <td>United-States</td>\n",
       "      <td>&gt;50K.</td>\n",
       "    </tr>\n",
       "  </tbody>\n",
       "</table>\n",
       "</div>"
      ],
      "text/plain": [
       "       age     workclass  fnlwgt  education  education-num  \\\n",
       "48837   39       Private  215419  Bachelors             13   \n",
       "48838   64           NaN  321403    HS-grad              9   \n",
       "48839   38       Private  374983  Bachelors             13   \n",
       "48840   44       Private   83891  Bachelors             13   \n",
       "48841   35  Self-emp-inc  182148  Bachelors             13   \n",
       "\n",
       "           marital-status       occupation    relationship  \\\n",
       "48837            Divorced   Prof-specialty   Not-in-family   \n",
       "48838             Widowed              NaN  Other-relative   \n",
       "48839  Married-civ-spouse   Prof-specialty         Husband   \n",
       "48840            Divorced     Adm-clerical       Own-child   \n",
       "48841  Married-civ-spouse  Exec-managerial         Husband   \n",
       "\n",
       "                     race     sex  capital-gain  capital-loss  hours-per-week  \\\n",
       "48837               White  Female             0             0              36   \n",
       "48838               Black    Male             0             0              40   \n",
       "48839               White    Male             0             0              50   \n",
       "48840  Asian-Pac-Islander    Male          5455             0              40   \n",
       "48841               White    Male             0             0              60   \n",
       "\n",
       "      native-country  income  \n",
       "48837  United-States  <=50K.  \n",
       "48838  United-States  <=50K.  \n",
       "48839  United-States  <=50K.  \n",
       "48840  United-States  <=50K.  \n",
       "48841  United-States   >50K.  "
      ]
     },
     "execution_count": 256,
     "metadata": {},
     "output_type": "execute_result"
    }
   ],
   "source": [
    "#Observo las últimas filas del Dataframe para verificar la carga completa de datos y validar la estructura o formato\n",
    "df.tail()"
   ]
  },
  {
   "cell_type": "code",
   "execution_count": 258,
   "id": "8517e119-b7e8-4720-b0b5-073dc718f128",
   "metadata": {},
   "outputs": [
    {
     "name": "stdout",
     "output_type": "stream",
     "text": [
      "+----------------+----------------+\n",
      "| Columna        | Tipo de dato   |\n",
      "+================+================+\n",
      "| age            | int64          |\n",
      "+----------------+----------------+\n",
      "| workclass      | object         |\n",
      "+----------------+----------------+\n",
      "| fnlwgt         | int64          |\n",
      "+----------------+----------------+\n",
      "| education      | object         |\n",
      "+----------------+----------------+\n",
      "| education-num  | int64          |\n",
      "+----------------+----------------+\n",
      "| marital-status | object         |\n",
      "+----------------+----------------+\n",
      "| occupation     | object         |\n",
      "+----------------+----------------+\n",
      "| relationship   | object         |\n",
      "+----------------+----------------+\n",
      "| race           | object         |\n",
      "+----------------+----------------+\n",
      "| sex            | object         |\n",
      "+----------------+----------------+\n",
      "| capital-gain   | int64          |\n",
      "+----------------+----------------+\n",
      "| capital-loss   | int64          |\n",
      "+----------------+----------------+\n",
      "| hours-per-week | int64          |\n",
      "+----------------+----------------+\n",
      "| native-country | object         |\n",
      "+----------------+----------------+\n",
      "| income         | object         |\n",
      "+----------------+----------------+\n"
     ]
    }
   ],
   "source": [
    "#Observo una por una las variables y su tipo\n",
    "\n",
    "#Voy a crear una lista para almacenar el tipo de datos de cada columna del DataFrame\n",
    "d_columnas = []\n",
    "\n",
    "\n",
    "#Utilizo la iteración para obtener el tipo de datos de cada columna del DataFrame\n",
    "for columna in df.columns:\n",
    "    #Obtengo el tipo de dato de la columna\n",
    "    tipo_dato = df[columna].dtype\n",
    "    #Agrego a la lista el nombre de la columna y el tipo de dato\n",
    "    d_columnas.append([columna, tipo_dato])\n",
    "\n",
    "#Visualizo los datos en el formato de tabla\n",
    "print(tabulate(d_columnas, headers=['Columna', 'Tipo de dato'], tablefmt='grid'))\n"
   ]
  },
  {
   "cell_type": "code",
   "execution_count": 260,
   "id": "d84c6f14-84bc-41c6-866b-8ed1f470498b",
   "metadata": {},
   "outputs": [
    {
     "data": {
      "text/plain": [
       "age               48842\n",
       "workclass         47879\n",
       "fnlwgt            48842\n",
       "education         48842\n",
       "education-num     48842\n",
       "marital-status    48842\n",
       "occupation        47876\n",
       "relationship      48842\n",
       "race              48842\n",
       "sex               48842\n",
       "capital-gain      48842\n",
       "capital-loss      48842\n",
       "hours-per-week    48842\n",
       "native-country    48568\n",
       "income            48842\n",
       "dtype: int64"
      ]
     },
     "execution_count": 260,
     "metadata": {},
     "output_type": "execute_result"
    }
   ],
   "source": [
    "#Quiero saber que cantidad de observaciones tengo para cada variable (No nulos)\n",
    "df.count()"
   ]
  },
  {
   "cell_type": "code",
   "execution_count": 262,
   "id": "e70d4c75-3080-4fb6-ae0d-b860ae1c0e9e",
   "metadata": {},
   "outputs": [
    {
     "data": {
      "text/plain": [
       "age                 0\n",
       "workclass         963\n",
       "fnlwgt              0\n",
       "education           0\n",
       "education-num       0\n",
       "marital-status      0\n",
       "occupation        966\n",
       "relationship        0\n",
       "race                0\n",
       "sex                 0\n",
       "capital-gain        0\n",
       "capital-loss        0\n",
       "hours-per-week      0\n",
       "native-country    274\n",
       "income              0\n",
       "dtype: int64"
      ]
     },
     "execution_count": 262,
     "metadata": {},
     "output_type": "execute_result"
    }
   ],
   "source": [
    "#Quiero saber si tengo valores nulos y cuantos tengo\n",
    "df.isnull().sum()"
   ]
  },
  {
   "cell_type": "code",
   "execution_count": 264,
   "id": "ec1b6cc4-4590-4196-8cbc-464c7dde7ac4",
   "metadata": {},
   "outputs": [
    {
     "data": {
      "text/plain": [
       "age                  74\n",
       "workclass             9\n",
       "fnlwgt            28523\n",
       "education            16\n",
       "education-num        16\n",
       "marital-status        7\n",
       "occupation           15\n",
       "relationship          6\n",
       "race                  5\n",
       "sex                   2\n",
       "capital-gain        123\n",
       "capital-loss         99\n",
       "hours-per-week       96\n",
       "native-country       42\n",
       "income                4\n",
       "dtype: int64"
      ]
     },
     "execution_count": 264,
     "metadata": {},
     "output_type": "execute_result"
    }
   ],
   "source": [
    "#Quiero conocer el número de valores distintos en cada columna\n",
    "df.nunique()"
   ]
  },
  {
   "cell_type": "code",
   "execution_count": 266,
   "id": "485f1f62-aadc-4fe1-bc23-cdb0ff61de5d",
   "metadata": {},
   "outputs": [
    {
     "data": {
      "text/plain": [
       "['age',\n",
       " 'workclass',\n",
       " 'fnlwgt',\n",
       " 'education',\n",
       " 'education-num',\n",
       " 'marital-status',\n",
       " 'occupation',\n",
       " 'relationship',\n",
       " 'race',\n",
       " 'sex',\n",
       " 'capital-gain',\n",
       " 'capital-loss',\n",
       " 'hours-per-week',\n",
       " 'native-country',\n",
       " 'income']"
      ]
     },
     "execution_count": 266,
     "metadata": {},
     "output_type": "execute_result"
    }
   ],
   "source": [
    "#Veo una lista con el nombre de las columnas\n",
    "df.columns.tolist()"
   ]
  },
  {
   "cell_type": "markdown",
   "id": "350b36cc-d8af-4ef5-ba59-ae755d744a04",
   "metadata": {},
   "source": [
    "Los tipos de cada variable son:  \n",
    "**Numéricas:** 'age','fnlwgt','capital-gain', 'capital-loss y 'hours-per-week'  \n",
    "**Categóricas** 'workclass''\n",
    " 'education\r\n",
    " 'education-nu,\r\n",
    " 'marital-stat',\r\n",
    " 'occupatn',\r\n",
    " 'relationip',\r\n",
    " ace',\r",
    "er-week',\r\n",
    " 'nate-country  ',\r\n",
    " 'income'"
   ]
  },
  {
   "cell_type": "code",
   "execution_count": 269,
   "id": "776ae719-57f7-4258-8e09-4a6c05e596c8",
   "metadata": {},
   "outputs": [
    {
     "data": {
      "text/html": [
       "<div>\n",
       "<style scoped>\n",
       "    .dataframe tbody tr th:only-of-type {\n",
       "        vertical-align: middle;\n",
       "    }\n",
       "\n",
       "    .dataframe tbody tr th {\n",
       "        vertical-align: top;\n",
       "    }\n",
       "\n",
       "    .dataframe thead th {\n",
       "        text-align: right;\n",
       "    }\n",
       "</style>\n",
       "<table border=\"1\" class=\"dataframe\">\n",
       "  <thead>\n",
       "    <tr style=\"text-align: right;\">\n",
       "      <th></th>\n",
       "      <th>age</th>\n",
       "      <th>fnlwgt</th>\n",
       "      <th>education-num</th>\n",
       "      <th>capital-gain</th>\n",
       "      <th>capital-loss</th>\n",
       "      <th>hours-per-week</th>\n",
       "    </tr>\n",
       "  </thead>\n",
       "  <tbody>\n",
       "    <tr>\n",
       "      <th>count</th>\n",
       "      <td>48842.000000</td>\n",
       "      <td>4.884200e+04</td>\n",
       "      <td>48842.000000</td>\n",
       "      <td>48842.000000</td>\n",
       "      <td>48842.000000</td>\n",
       "      <td>48842.000000</td>\n",
       "    </tr>\n",
       "    <tr>\n",
       "      <th>mean</th>\n",
       "      <td>38.643585</td>\n",
       "      <td>1.896641e+05</td>\n",
       "      <td>10.078089</td>\n",
       "      <td>1079.067626</td>\n",
       "      <td>87.502314</td>\n",
       "      <td>40.422382</td>\n",
       "    </tr>\n",
       "    <tr>\n",
       "      <th>std</th>\n",
       "      <td>13.710510</td>\n",
       "      <td>1.056040e+05</td>\n",
       "      <td>2.570973</td>\n",
       "      <td>7452.019058</td>\n",
       "      <td>403.004552</td>\n",
       "      <td>12.391444</td>\n",
       "    </tr>\n",
       "    <tr>\n",
       "      <th>min</th>\n",
       "      <td>17.000000</td>\n",
       "      <td>1.228500e+04</td>\n",
       "      <td>1.000000</td>\n",
       "      <td>0.000000</td>\n",
       "      <td>0.000000</td>\n",
       "      <td>1.000000</td>\n",
       "    </tr>\n",
       "    <tr>\n",
       "      <th>25%</th>\n",
       "      <td>28.000000</td>\n",
       "      <td>1.175505e+05</td>\n",
       "      <td>9.000000</td>\n",
       "      <td>0.000000</td>\n",
       "      <td>0.000000</td>\n",
       "      <td>40.000000</td>\n",
       "    </tr>\n",
       "    <tr>\n",
       "      <th>50%</th>\n",
       "      <td>37.000000</td>\n",
       "      <td>1.781445e+05</td>\n",
       "      <td>10.000000</td>\n",
       "      <td>0.000000</td>\n",
       "      <td>0.000000</td>\n",
       "      <td>40.000000</td>\n",
       "    </tr>\n",
       "    <tr>\n",
       "      <th>75%</th>\n",
       "      <td>48.000000</td>\n",
       "      <td>2.376420e+05</td>\n",
       "      <td>12.000000</td>\n",
       "      <td>0.000000</td>\n",
       "      <td>0.000000</td>\n",
       "      <td>45.000000</td>\n",
       "    </tr>\n",
       "    <tr>\n",
       "      <th>max</th>\n",
       "      <td>90.000000</td>\n",
       "      <td>1.490400e+06</td>\n",
       "      <td>16.000000</td>\n",
       "      <td>99999.000000</td>\n",
       "      <td>4356.000000</td>\n",
       "      <td>99.000000</td>\n",
       "    </tr>\n",
       "  </tbody>\n",
       "</table>\n",
       "</div>"
      ],
      "text/plain": [
       "                age        fnlwgt  education-num  capital-gain  capital-loss  \\\n",
       "count  48842.000000  4.884200e+04   48842.000000  48842.000000  48842.000000   \n",
       "mean      38.643585  1.896641e+05      10.078089   1079.067626     87.502314   \n",
       "std       13.710510  1.056040e+05       2.570973   7452.019058    403.004552   \n",
       "min       17.000000  1.228500e+04       1.000000      0.000000      0.000000   \n",
       "25%       28.000000  1.175505e+05       9.000000      0.000000      0.000000   \n",
       "50%       37.000000  1.781445e+05      10.000000      0.000000      0.000000   \n",
       "75%       48.000000  2.376420e+05      12.000000      0.000000      0.000000   \n",
       "max       90.000000  1.490400e+06      16.000000  99999.000000   4356.000000   \n",
       "\n",
       "       hours-per-week  \n",
       "count    48842.000000  \n",
       "mean        40.422382  \n",
       "std         12.391444  \n",
       "min          1.000000  \n",
       "25%         40.000000  \n",
       "50%         40.000000  \n",
       "75%         45.000000  \n",
       "max         99.000000  "
      ]
     },
     "execution_count": 269,
     "metadata": {},
     "output_type": "execute_result"
    }
   ],
   "source": [
    "#Observo el resumen estadístico para observar el comportamiento de cada variable númerica\n",
    "df.describe()"
   ]
  },
  {
   "cell_type": "markdown",
   "id": "5cb5fa89-4861-4436-90f3-9227ccb11817",
   "metadata": {},
   "source": [
    "A partir del resumen estadístico se pueden sacar las siguientes conclusiones:\n",
    "- La edad de las personas se encuentra en el rango de 17 a 90, con una edad promedio de 38.64 años\n",
    "- El 75% de las personas trabajan 45 horas o menos por semana y el restante trabajan más de 45\n",
    "- La ganancia de capital promedio es 1,079.07, pero con una alta variabilidad (7,452.02), lo que sugiere que muchas personas tienen ganancias mínimas, mientras que algunas obtienen ganancias muy grandes\n",
    "- La alta desviación estándar en 'capital-gain' indica una gran variación en las ganancias de capital entre las personas."
   ]
  },
  {
   "cell_type": "code",
   "execution_count": 272,
   "id": "60ed5291-775f-4ccc-9d5c-1663f189920c",
   "metadata": {},
   "outputs": [
    {
     "data": {
      "text/plain": [
       "income\n",
       "<=50K     24720\n",
       "<=50K.    12435\n",
       ">50K       7841\n",
       ">50K.      3846\n",
       "Name: count, dtype: int64"
      ]
     },
     "execution_count": 272,
     "metadata": {},
     "output_type": "execute_result"
    }
   ],
   "source": [
    "#Calculo la frecuencia de cada categoría de la variable income\n",
    "df['income'].value_counts()"
   ]
  },
  {
   "cell_type": "markdown",
   "id": "510370d6-23ff-4e2e-9c50-79c89f43f286",
   "metadata": {},
   "source": [
    "Como podemos observar, la variable *'income'* debería tomar los valores de *<=50K* ó *>50K* pero en algunas observaciones se incluye un punto al final,  \n",
    "por lo tanto, el punto debe eliminarse para obtener la frecuencia total para cada categoría"
   ]
  },
  {
   "cell_type": "code",
   "execution_count": 275,
   "id": "bfab535e-6db1-47d1-adda-f35e6ddb7e4e",
   "metadata": {},
   "outputs": [
    {
     "data": {
      "text/plain": [
       "income\n",
       "<=50K    37155\n",
       ">50K     11687\n",
       "Name: count, dtype: int64"
      ]
     },
     "execution_count": 275,
     "metadata": {},
     "output_type": "execute_result"
    }
   ],
   "source": [
    "#Elimino el punto final de las observaciones que lo contienen y obtengo la frecuencia de cada una de las dos categorías\n",
    "df['income'].str.rstrip('.').value_counts()"
   ]
  },
  {
   "cell_type": "code",
   "execution_count": 277,
   "id": "8307e4c3-73f8-4d16-8225-a61ee68d06e1",
   "metadata": {},
   "outputs": [
    {
     "data": {
      "text/plain": [
       "income\n",
       "<=50K    76.071823\n",
       ">50K     23.928177\n",
       "Name: proportion, dtype: float64"
      ]
     },
     "execution_count": 277,
     "metadata": {},
     "output_type": "execute_result"
    }
   ],
   "source": [
    "#Lo observo en valor porcentual para tener una mejor interpretación del comportamiento de la variable 'income'\n",
    "df['income'].str.rstrip('.').value_counts(normalize=True)*100"
   ]
  },
  {
   "cell_type": "markdown",
   "id": "17e38c50-beed-4380-ac9c-1a504c03e5bc",
   "metadata": {},
   "source": [
    "A partir de los valores porcentuales puedo decir que el **76.07%** de personas de la muestra estudiada ganan menos de $50.000 y el **23.93%** ganan más de esta cifra."
   ]
  },
  {
   "cell_type": "code",
   "execution_count": 280,
   "id": "54d8df16-55fb-479b-8925-b6dc957212ef",
   "metadata": {},
   "outputs": [
    {
     "data": {
      "text/plain": [
       "sex\n",
       "Male      32650\n",
       "Female    16192\n",
       "Name: count, dtype: int64"
      ]
     },
     "execution_count": 280,
     "metadata": {},
     "output_type": "execute_result"
    }
   ],
   "source": [
    "#Calculo la frecuencia de la variable 'sex'\n",
    "df['sex'].value_counts()"
   ]
  },
  {
   "cell_type": "code",
   "execution_count": 282,
   "id": "23b9fccd-5f81-4bee-8928-1c73a6d8226b",
   "metadata": {},
   "outputs": [
    {
     "data": {
      "text/plain": [
       "sex\n",
       "Male      66.848204\n",
       "Female    33.151796\n",
       "Name: proportion, dtype: float64"
      ]
     },
     "execution_count": 282,
     "metadata": {},
     "output_type": "execute_result"
    }
   ],
   "source": [
    "#Lo observo en valor porcentual para tener una mejor interpretación del comportamiento de la variable 'sex'\n",
    "df['sex'].str.rstrip('.').value_counts(normalize=True)*100"
   ]
  },
  {
   "cell_type": "markdown",
   "id": "ed7385bf-6023-480d-a1fd-4c8abc0bfdf8",
   "metadata": {},
   "source": [
    "A partir de los valores porcentuales puedo decir que el **66.85%** de personas de la muestra estudiada son hombres y el **33.15%** son mujeres"
   ]
  },
  {
   "cell_type": "markdown",
   "id": "0cb5890d-75ff-4975-ad1c-b0c6dbfa7afc",
   "metadata": {},
   "source": [
    "## Actividad 2. Programa con IF para la limpieza de datos\n"
   ]
  },
  {
   "cell_type": "code",
   "execution_count": 286,
   "id": "0fde86d9-a4e8-450d-8058-ed5555f7393a",
   "metadata": {},
   "outputs": [
    {
     "name": "stdout",
     "output_type": "stream",
     "text": [
      "<class 'pandas.core.frame.DataFrame'>\n",
      "RangeIndex: 887 entries, 0 to 886\n",
      "Data columns (total 8 columns):\n",
      " #   Column                   Non-Null Count  Dtype  \n",
      "---  ------                   --------------  -----  \n",
      " 0   Survived                 887 non-null    int64  \n",
      " 1   Pclass                   887 non-null    int64  \n",
      " 2   Name                     887 non-null    object \n",
      " 3   Sex                      887 non-null    object \n",
      " 4   Age                      887 non-null    float64\n",
      " 5   Siblings/Spouses Aboard  887 non-null    int64  \n",
      " 6   Parents/Children Aboard  887 non-null    int64  \n",
      " 7   Fare                     887 non-null    float64\n",
      "dtypes: float64(2), int64(4), object(2)\n",
      "memory usage: 55.6+ KB\n"
     ]
    }
   ],
   "source": [
    "#Realizo la carga del archivo csv que se va a explorar 'titanic'\n",
    "df1=pd.read_csv('titanic-1.csv')\n",
    "df1.info()"
   ]
  },
  {
   "cell_type": "markdown",
   "id": "b651f5bd-de71-4235-9b93-682427461537",
   "metadata": {},
   "source": [
    "**Descripción de las variables**\n",
    "- **Survived**: Indica si el pasajero sobrevivió\n",
    "- **Pclass**: Clase del pasajero en el Titanic\n",
    "- **Name**: Nombre completo del pasajero\n",
    "- **Sex**: Género del pasajero\n",
    "- **Age**: Edad del pasajero en años\n",
    "- **Siblings/Spouses Aboard**:Número de hermanos y/o cónyuges a bordo del Titanic\n",
    "- **Parents/Children Aboard**: Número de padres e hijos a bordo del Titanic\n",
    "- **Fare**: Tarifa pagada por el pasajero"
   ]
  },
  {
   "cell_type": "code",
   "execution_count": 289,
   "id": "ef956a85-8ec5-45ec-9072-ee2ca93e9abe",
   "metadata": {},
   "outputs": [
    {
     "data": {
      "text/plain": [
       "Survived                     int64\n",
       "Pclass                       int64\n",
       "Name                        object\n",
       "Sex                         object\n",
       "Age                        float64\n",
       "Siblings/Spouses Aboard      int64\n",
       "Parents/Children Aboard      int64\n",
       "Fare                       float64\n",
       "dtype: object"
      ]
     },
     "execution_count": 289,
     "metadata": {},
     "output_type": "execute_result"
    }
   ],
   "source": [
    "#Visualizo el nombre de cada columna del DataFrame y el tipo de datos de cada una de ellas\n",
    "df1.dtypes"
   ]
  },
  {
   "cell_type": "markdown",
   "id": "e79199b5-43db-429e-92a5-5d9deaebc026",
   "metadata": {},
   "source": [
    "Las variables númericas según el tipo de dato son: 'Survived', 'Pclass', 'Age' y 'Fare'.\n",
    "Las variables categóricas son: 'Name' y 'Sex'"
   ]
  },
  {
   "cell_type": "code",
   "execution_count": 292,
   "id": "b4b08636-3c93-4165-9650-f0516e23e4df",
   "metadata": {},
   "outputs": [
    {
     "data": {
      "text/html": [
       "<div>\n",
       "<style scoped>\n",
       "    .dataframe tbody tr th:only-of-type {\n",
       "        vertical-align: middle;\n",
       "    }\n",
       "\n",
       "    .dataframe tbody tr th {\n",
       "        vertical-align: top;\n",
       "    }\n",
       "\n",
       "    .dataframe thead th {\n",
       "        text-align: right;\n",
       "    }\n",
       "</style>\n",
       "<table border=\"1\" class=\"dataframe\">\n",
       "  <thead>\n",
       "    <tr style=\"text-align: right;\">\n",
       "      <th></th>\n",
       "      <th>Survived</th>\n",
       "      <th>Pclass</th>\n",
       "      <th>Name</th>\n",
       "      <th>Sex</th>\n",
       "      <th>Age</th>\n",
       "      <th>Siblings/Spouses Aboard</th>\n",
       "      <th>Parents/Children Aboard</th>\n",
       "      <th>Fare</th>\n",
       "    </tr>\n",
       "  </thead>\n",
       "  <tbody>\n",
       "    <tr>\n",
       "      <th>0</th>\n",
       "      <td>0</td>\n",
       "      <td>3</td>\n",
       "      <td>Mr. Owen Harris Braund</td>\n",
       "      <td>male</td>\n",
       "      <td>22.0</td>\n",
       "      <td>1</td>\n",
       "      <td>0</td>\n",
       "      <td>7.2500</td>\n",
       "    </tr>\n",
       "    <tr>\n",
       "      <th>1</th>\n",
       "      <td>1</td>\n",
       "      <td>1</td>\n",
       "      <td>Mrs. John Bradley (Florence Briggs Thayer) Cum...</td>\n",
       "      <td>female</td>\n",
       "      <td>38.0</td>\n",
       "      <td>1</td>\n",
       "      <td>0</td>\n",
       "      <td>71.2833</td>\n",
       "    </tr>\n",
       "    <tr>\n",
       "      <th>2</th>\n",
       "      <td>1</td>\n",
       "      <td>3</td>\n",
       "      <td>Miss. Laina Heikkinen</td>\n",
       "      <td>female</td>\n",
       "      <td>26.0</td>\n",
       "      <td>0</td>\n",
       "      <td>0</td>\n",
       "      <td>7.9250</td>\n",
       "    </tr>\n",
       "    <tr>\n",
       "      <th>3</th>\n",
       "      <td>1</td>\n",
       "      <td>1</td>\n",
       "      <td>Mrs. Jacques Heath (Lily May Peel) Futrelle</td>\n",
       "      <td>female</td>\n",
       "      <td>35.0</td>\n",
       "      <td>1</td>\n",
       "      <td>0</td>\n",
       "      <td>53.1000</td>\n",
       "    </tr>\n",
       "    <tr>\n",
       "      <th>4</th>\n",
       "      <td>0</td>\n",
       "      <td>3</td>\n",
       "      <td>Mr. William Henry Allen</td>\n",
       "      <td>male</td>\n",
       "      <td>35.0</td>\n",
       "      <td>0</td>\n",
       "      <td>0</td>\n",
       "      <td>8.0500</td>\n",
       "    </tr>\n",
       "  </tbody>\n",
       "</table>\n",
       "</div>"
      ],
      "text/plain": [
       "   Survived  Pclass                                               Name  \\\n",
       "0         0       3                             Mr. Owen Harris Braund   \n",
       "1         1       1  Mrs. John Bradley (Florence Briggs Thayer) Cum...   \n",
       "2         1       3                              Miss. Laina Heikkinen   \n",
       "3         1       1        Mrs. Jacques Heath (Lily May Peel) Futrelle   \n",
       "4         0       3                            Mr. William Henry Allen   \n",
       "\n",
       "      Sex   Age  Siblings/Spouses Aboard  Parents/Children Aboard     Fare  \n",
       "0    male  22.0                        1                        0   7.2500  \n",
       "1  female  38.0                        1                        0  71.2833  \n",
       "2  female  26.0                        0                        0   7.9250  \n",
       "3  female  35.0                        1                        0  53.1000  \n",
       "4    male  35.0                        0                        0   8.0500  "
      ]
     },
     "execution_count": 292,
     "metadata": {},
     "output_type": "execute_result"
    }
   ],
   "source": [
    "#Visualizo las primeras observaciones del DataFrame para conocer su estructura\n",
    "df1.head()"
   ]
  },
  {
   "cell_type": "code",
   "execution_count": 294,
   "id": "36c48653-e98d-4c06-9d72-e32a19f22303",
   "metadata": {},
   "outputs": [
    {
     "data": {
      "text/html": [
       "<div>\n",
       "<style scoped>\n",
       "    .dataframe tbody tr th:only-of-type {\n",
       "        vertical-align: middle;\n",
       "    }\n",
       "\n",
       "    .dataframe tbody tr th {\n",
       "        vertical-align: top;\n",
       "    }\n",
       "\n",
       "    .dataframe thead th {\n",
       "        text-align: right;\n",
       "    }\n",
       "</style>\n",
       "<table border=\"1\" class=\"dataframe\">\n",
       "  <thead>\n",
       "    <tr style=\"text-align: right;\">\n",
       "      <th></th>\n",
       "      <th>Survived</th>\n",
       "      <th>Pclass</th>\n",
       "      <th>Name</th>\n",
       "      <th>Sex</th>\n",
       "      <th>Age</th>\n",
       "      <th>Siblings/Spouses Aboard</th>\n",
       "      <th>Parents/Children Aboard</th>\n",
       "      <th>Fare</th>\n",
       "    </tr>\n",
       "  </thead>\n",
       "  <tbody>\n",
       "    <tr>\n",
       "      <th>882</th>\n",
       "      <td>0</td>\n",
       "      <td>2</td>\n",
       "      <td>Rev. Juozas Montvila</td>\n",
       "      <td>male</td>\n",
       "      <td>27.0</td>\n",
       "      <td>0</td>\n",
       "      <td>0</td>\n",
       "      <td>13.00</td>\n",
       "    </tr>\n",
       "    <tr>\n",
       "      <th>883</th>\n",
       "      <td>1</td>\n",
       "      <td>1</td>\n",
       "      <td>Miss. Margaret Edith Graham</td>\n",
       "      <td>female</td>\n",
       "      <td>19.0</td>\n",
       "      <td>0</td>\n",
       "      <td>0</td>\n",
       "      <td>30.00</td>\n",
       "    </tr>\n",
       "    <tr>\n",
       "      <th>884</th>\n",
       "      <td>0</td>\n",
       "      <td>3</td>\n",
       "      <td>Miss. Catherine Helen Johnston</td>\n",
       "      <td>female</td>\n",
       "      <td>7.0</td>\n",
       "      <td>1</td>\n",
       "      <td>2</td>\n",
       "      <td>23.45</td>\n",
       "    </tr>\n",
       "    <tr>\n",
       "      <th>885</th>\n",
       "      <td>1</td>\n",
       "      <td>1</td>\n",
       "      <td>Mr. Karl Howell Behr</td>\n",
       "      <td>male</td>\n",
       "      <td>26.0</td>\n",
       "      <td>0</td>\n",
       "      <td>0</td>\n",
       "      <td>30.00</td>\n",
       "    </tr>\n",
       "    <tr>\n",
       "      <th>886</th>\n",
       "      <td>0</td>\n",
       "      <td>3</td>\n",
       "      <td>Mr. Patrick Dooley</td>\n",
       "      <td>male</td>\n",
       "      <td>32.0</td>\n",
       "      <td>0</td>\n",
       "      <td>0</td>\n",
       "      <td>7.75</td>\n",
       "    </tr>\n",
       "  </tbody>\n",
       "</table>\n",
       "</div>"
      ],
      "text/plain": [
       "     Survived  Pclass                            Name     Sex   Age  \\\n",
       "882         0       2            Rev. Juozas Montvila    male  27.0   \n",
       "883         1       1     Miss. Margaret Edith Graham  female  19.0   \n",
       "884         0       3  Miss. Catherine Helen Johnston  female   7.0   \n",
       "885         1       1            Mr. Karl Howell Behr    male  26.0   \n",
       "886         0       3              Mr. Patrick Dooley    male  32.0   \n",
       "\n",
       "     Siblings/Spouses Aboard  Parents/Children Aboard   Fare  \n",
       "882                        0                        0  13.00  \n",
       "883                        0                        0  30.00  \n",
       "884                        1                        2  23.45  \n",
       "885                        0                        0  30.00  \n",
       "886                        0                        0   7.75  "
      ]
     },
     "execution_count": 294,
     "metadata": {},
     "output_type": "execute_result"
    }
   ],
   "source": [
    "#Visualizo las últimas observaciones del DataFrame para validar la carga de datos completa y la estructura\n",
    "df1.tail()"
   ]
  },
  {
   "cell_type": "code",
   "execution_count": 296,
   "id": "91ce7b8a-e2cd-42b4-8aed-eef60691fcd9",
   "metadata": {},
   "outputs": [
    {
     "data": {
      "text/plain": [
       "Survived                   887\n",
       "Pclass                     887\n",
       "Name                       887\n",
       "Sex                        887\n",
       "Age                        887\n",
       "Siblings/Spouses Aboard    887\n",
       "Parents/Children Aboard    887\n",
       "Fare                       887\n",
       "dtype: int64"
      ]
     },
     "execution_count": 296,
     "metadata": {},
     "output_type": "execute_result"
    }
   ],
   "source": [
    "#Cuento cuantas observaciones tiene cada variable (No nulas)\n",
    "df1.count()"
   ]
  },
  {
   "cell_type": "code",
   "execution_count": 298,
   "id": "bee02620-8442-4b47-a8bb-ad0fe23fe3c0",
   "metadata": {},
   "outputs": [
    {
     "name": "stdout",
     "output_type": "stream",
     "text": [
      "Todas las columnas tienen el número máximo de observaciones (sin valores nulos).\n"
     ]
    }
   ],
   "source": [
    "total_rows = len(df1)\n",
    "\n",
    "# Verifico si todas las columnas tienen el número máximo de observaciones (sin valores nulos)\n",
    "if (df1.count() != total_rows).any():\n",
    "    print(\"Hay columnas con valores nulos\")\n",
    "    print(df1.count())\n",
    "else:\n",
    "    print(\"Todas las columnas tienen el número máximo de observaciones (sin valores nulos).\")"
   ]
  },
  {
   "cell_type": "code",
   "execution_count": 300,
   "id": "9a9f7b20-9906-4b4c-a582-63eee092b2e8",
   "metadata": {},
   "outputs": [
    {
     "data": {
      "text/plain": [
       "Survived                   0\n",
       "Pclass                     0\n",
       "Name                       0\n",
       "Sex                        0\n",
       "Age                        0\n",
       "Siblings/Spouses Aboard    0\n",
       "Parents/Children Aboard    0\n",
       "Fare                       0\n",
       "dtype: int64"
      ]
     },
     "execution_count": 300,
     "metadata": {},
     "output_type": "execute_result"
    }
   ],
   "source": [
    "#Cuento cuantos valores nulos tiene cada variable\n",
    "df1.isnull().sum()"
   ]
  },
  {
   "cell_type": "markdown",
   "id": "a67924f4-b920-45db-8e16-3bf4ad86c479",
   "metadata": {},
   "source": [
    "Ninguna de las variables tiene valores nulos"
   ]
  },
  {
   "cell_type": "code",
   "execution_count": 303,
   "id": "9efb602b-3e63-4a64-a55d-1e6fa28fe38f",
   "metadata": {},
   "outputs": [],
   "source": [
    "#Renombro columnas que contienen caracteres especiales para evitar errores de análisis posteriores\n",
    "df1.rename(columns={'Siblings/Spouses Aboard': 'Siblings_Spouses_Aboard', \n",
    "                    'Parents/Children Aboard': 'Parents_Children_Aboard'}, inplace=True)"
   ]
  },
  {
   "cell_type": "code",
   "execution_count": 305,
   "id": "a8b4aa73-4824-4cd3-b45d-05e70545810b",
   "metadata": {},
   "outputs": [
    {
     "name": "stdout",
     "output_type": "stream",
     "text": [
      "Columna: Survived\n",
      "Número de valores distintos: 2\n",
      "Tipo de dato: int64\n",
      "----------------------------------------\n",
      "Columna: Pclass\n",
      "Número de valores distintos: 3\n",
      "Tipo de dato: int64\n",
      "----------------------------------------\n",
      "Columna: Sex\n",
      "Número de valores distintos: 2\n",
      "Tipo de dato: object\n",
      "----------------------------------------\n"
     ]
    }
   ],
   "source": [
    "#Quiero saber cuales variables tienen 4 valores distintos o menos para ver su tipo y verificar que se están tomando de manera correcta\n",
    "for column, count in df1.nunique().items():\n",
    "    if count <= 4:\n",
    "        # Obtengo el tipo de datos de la columna\n",
    "        column_type = df1[column].dtype\n",
    "        \n",
    "        # Observo las columnas\n",
    "        print(f\"Columna: {column}\")\n",
    "        print(f\"Número de valores distintos: {count}\")\n",
    "        print(f\"Tipo de dato: {column_type}\")\n",
    "        print(\"-\" * 40)"
   ]
  },
  {
   "cell_type": "markdown",
   "id": "e3f79088-b1eb-4036-a339-2af1ba5c1c05",
   "metadata": {},
   "source": [
    "De estas variables quiero analizar las dos numéricas: 'Survived' y 'Pclass ya que tienen 2 y 3 valores distintos respectivamente."
   ]
  },
  {
   "cell_type": "code",
   "execution_count": 308,
   "id": "ec775b2a-aa4e-4f7d-ba5a-face7d98cd03",
   "metadata": {},
   "outputs": [
    {
     "data": {
      "text/plain": [
       "Survived\n",
       "0    545\n",
       "1    342\n",
       "Name: count, dtype: int64"
      ]
     },
     "execution_count": 308,
     "metadata": {},
     "output_type": "execute_result"
    }
   ],
   "source": [
    "#Quiero saber cuales son los dos valores que toma la variable Survived y la frecuencia de estos\n",
    "df1['Survived'].value_counts()"
   ]
  },
  {
   "cell_type": "markdown",
   "id": "69c3db0c-14de-435a-a0c6-c4dd77e5b4e5",
   "metadata": {},
   "source": [
    "La variable 'Survived' dos valores: 0 y 1, lo que quiere decir que es una variable binaria.\n"
   ]
  },
  {
   "cell_type": "code",
   "execution_count": 311,
   "id": "0eff55d9-bd91-47a3-bef6-4230957c7417",
   "metadata": {},
   "outputs": [
    {
     "data": {
      "text/plain": [
       "Pclass\n",
       "3    487\n",
       "1    216\n",
       "2    184\n",
       "Name: count, dtype: int64"
      ]
     },
     "execution_count": 311,
     "metadata": {},
     "output_type": "execute_result"
    }
   ],
   "source": [
    "#Quiero conocer que valores toma la variable Pclass y la frecuencia de estos\n",
    "df1['Pclass'].value_counts()"
   ]
  },
  {
   "cell_type": "markdown",
   "id": "a713eb36-d7f9-4bcf-9815-9cc1b0570d1e",
   "metadata": {},
   "source": [
    "La variables 'Pclass' tomas tres valores: 1,2 y 3, que son las 3 clases de los pasajeros. Esto quiere decir que es una variable categórica"
   ]
  },
  {
   "cell_type": "markdown",
   "id": "edd13f77-0290-4c6e-80c3-f0796d837cec",
   "metadata": {},
   "source": [
    "Teniendo en cuenta las observaciones de las variables 'Survived'y'Pclass' cambio su tipo a categoría"
   ]
  },
  {
   "cell_type": "code",
   "execution_count": 315,
   "id": "60adaab0-94ae-4fa3-bf90-7985618d0675",
   "metadata": {},
   "outputs": [
    {
     "name": "stdout",
     "output_type": "stream",
     "text": [
      "Columnas 'Survived' y 'Pclass' convertidas exitosamente de numéricas a categóricas.\n"
     ]
    },
    {
     "data": {
      "text/plain": [
       "Survived                   category\n",
       "Pclass                     category\n",
       "Name                         object\n",
       "Sex                        category\n",
       "Age                         float64\n",
       "Siblings_Spouses_Aboard       int64\n",
       "Parents_Children_Aboard       int64\n",
       "Fare                        float64\n",
       "dtype: object"
      ]
     },
     "execution_count": 315,
     "metadata": {},
     "output_type": "execute_result"
    }
   ],
   "source": [
    "#Convierto las columnas 'Survived' y 'Pclass' de númericas a categóricas\n",
    "df1['Survived'] = df1['Survived'].astype('category')\n",
    "df1['Pclass'] = df1['Pclass'].astype('category')\n",
    "\n",
    "#Para clarificar que 'Sex' es una variable categórica también le cambio el tipo\n",
    "df1['Sex'] = df1['Sex'].astype('category')\n",
    "\n",
    "#Verifico si el cambio fue exitoso\n",
    "if df1['Survived'].dtype == 'category' and df1['Pclass'].dtype == 'category' and df1['Sex'].dtype == 'category':\n",
    "    print(\"Columnas 'Survived' y 'Pclass' convertidas exitosamente de numéricas a categóricas.\")\n",
    "else:\n",
    "    print(\"La conversión de las columnas 'Survived' y/o 'Pclass' no fue exitosa.\")\n",
    "df1.dtypes"
   ]
  },
  {
   "cell_type": "markdown",
   "id": "0b4d1810-86f2-4109-a8f5-0c3ed0c5c638",
   "metadata": {},
   "source": [
    "Después de los cambios realizados tenemos las variables clasificadas por tipo de la siguiente manera:  \n",
    "**Númericas**: 'Age', 'Siblings/Spouses Aboard', 'Parents/Children Aboard' y 'Fare'  \n",
    "**Categóricas**: 'Survived', 'Pclass' y 'Sex'  \n",
    "**De texto**: 'Name'"
   ]
  },
  {
   "cell_type": "code",
   "execution_count": 318,
   "id": "ddc2fd36-397b-4ad5-8626-187669fd2daa",
   "metadata": {},
   "outputs": [
    {
     "name": "stdout",
     "output_type": "stream",
     "text": [
      "              Age  Siblings_Spouses_Aboard  Parents_Children_Aboard       Fare\n",
      "count  887.000000               887.000000               887.000000  887.00000\n",
      "mean    29.471443                 0.525366                 0.383315   32.30542\n",
      "std     14.121908                 1.104669                 0.807466   49.78204\n",
      "min      0.420000                 0.000000                 0.000000    0.00000\n",
      "25%     20.250000                 0.000000                 0.000000    7.92500\n",
      "50%     28.000000                 0.000000                 0.000000   14.45420\n",
      "75%     38.000000                 1.000000                 0.000000   31.13750\n",
      "max     80.000000                 8.000000                 6.000000  512.32920\n"
     ]
    }
   ],
   "source": [
    "#Realizo un resumen estadístico de las variables numéricas\n",
    "#Verifico que solo se realice para variables numéricas\n",
    "if not df1.select_dtypes(include=['float64', 'int64']).empty:\n",
    "    print(df1.describe())"
   ]
  },
  {
   "cell_type": "markdown",
   "id": "17b962ad-63b4-4cb4-a432-aae46576df24",
   "metadata": {},
   "source": [
    "A partir del resumen estadístico de las variables númericas 'Age','Siblings/Spouses Aboard','Parents/Children Aboard' y 'Fare'  \n",
    "puedo anotar lo siguiente:\n",
    "- La persona con menor edad en el Titanic tenía 0.42 años y la mayor 80 años, es decir, que habia desde bebés hasta adultos mayores en el Titánic.\n",
    "- La edad promedio de los pasajeros era de 29.47 años\n",
    "- La mayoría de los pasajeros viajaban solos o con un solo familiar, ya que el 50% no tenía hermanos ni esposos a bordo y el 75% tenía un máximo de uno.\n",
    "- La tarifa promedio pagada por los pasajeros fue apróximadamente 32.31 libras esterlinas (£),pero la desviación estándar de 49.78 muestra una gran variación en los precios de los boletos, probablemente debido a las distintas clases de servicio disponibles.\n",
    "- El 50% de los pasajeros tenía 28 años o menos, y el 75% tenía 38 años o menos, por tanto, se puede decir que había una gran cantidad de jóvenes a bordo.\n",
    "- La tarifa mínima fue 0, lo que podría indicar errores o boletos gratuitos, mientras que la tarifa máxima de 512.33 sugiere que algunos pasajeros pagaron mucho, probablemente por viajar en primera clase.\n",
    "- Algunos pasajeros viajaban con hasta 8 hermanos o esposos y hasta 6 padres o hijos, lo que sugiere la presencia de familias numerosas a bordo, aunque no eran muy comunes."
   ]
  }
 ],
 "metadata": {
  "kernelspec": {
   "display_name": "Python 3 (ipykernel)",
   "language": "python",
   "name": "python3"
  },
  "language_info": {
   "codemirror_mode": {
    "name": "ipython",
    "version": 3
   },
   "file_extension": ".py",
   "mimetype": "text/x-python",
   "name": "python",
   "nbconvert_exporter": "python",
   "pygments_lexer": "ipython3",
   "version": "3.12.4"
  }
 },
 "nbformat": 4,
 "nbformat_minor": 5
}
